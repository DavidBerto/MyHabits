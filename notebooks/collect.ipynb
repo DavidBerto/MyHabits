{
 "cells": [
  {
   "cell_type": "code",
   "execution_count": 7,
   "metadata": {},
   "outputs": [],
   "source": [
    "import streamlit as st\n",
    "import openai\n",
    "from PIL import Image\n",
    "import cv2\n",
    "import pandas as pd"
   ]
  },
  {
   "cell_type": "code",
   "execution_count": 8,
   "metadata": {},
   "outputs": [],
   "source": [
    "import base64"
   ]
  },
  {
   "cell_type": "code",
   "execution_count": 9,
   "metadata": {},
   "outputs": [],
   "source": [
    "# Configura a chave da sua API OpenAI\n",
    "openai.api_key = \"sk-proj-0KKgL3eDos9U4Zo2HKH6T3BlbkFJS1i1I7VTfZF4hc9zPshs\""
   ]
  },
  {
   "cell_type": "code",
   "execution_count": 10,
   "metadata": {},
   "outputs": [],
   "source": [
    "def describe_image(image_path):\n",
    "    \"\"\"Descreve uma imagem usando a API da OpenAI.\n",
    "\n",
    "    Args:\n",
    "        image_path: Caminho para a imagem.\n",
    "\n",
    "    Returns:\n",
    "        Uma lista de descrições da imagem.\n",
    "    \"\"\"\n",
    "\n",
    "    # Abre a imagem e converte para formato base64\n",
    "    image = Image.open(image_path)\n",
    "    image_array = cv2.imread(image_path)\n",
    "    _, img_encoded = cv2.imencode('.jpg', image_array)\n",
    "    base64_string = base64.b64encode(img_encoded).decode('utf-8')\n",
    "\n",
    "    # Cria o prompt para a API\n",
    "    prompt = f\"Descreva a imagem a seguir: {base64_string}\"\n",
    "\n",
    "    # Chama a API da OpenAI para gerar a descrição\n",
    "    response = openai.Completion.create(\n",
    "        engine=\"text-davinci-003\",\n",
    "        prompt=prompt,\n",
    "        max_tokens=1024,\n",
    "        n=1,\n",
    "        stop=None,\n",
    "        temperature=0.5,\n",
    "    )\n",
    "\n",
    "    # Extrai as descrições da resposta\n",
    "    descriptions = response.choices[0].text.split('\\n')\n",
    "    return descriptions\n",
    "\n",
    "def main():\n",
    "    st.title(\"Descridor de Imagens com OpenAI\")\n",
    "\n",
    "    # Carrega a imagem\n",
    "    uploaded_file = st.file_uploader(\"Escolha uma imagem\", type=[\"jpg\", \"jpeg\", \"png\"])\n",
    "    if uploaded_file is not None:\n",
    "        image = Image.open(uploaded_file)\n",
    "        st.image(image, caption='Imagem carregada', use_column_width=True)\n",
    "\n",
    "        # Botão para gerar a descrição\n",
    "        if st.button(\"Gerar Descrição\"):\n",
    "            descriptions = describe_image(uploaded_file)\n",
    "\n",
    "            # Cria um DataFrame com as descrições\n",
    "            df = pd.DataFrame({'Componentes': descriptions})\n",
    "            st.table(df)\n"
   ]
  },
  {
   "cell_type": "code",
   "execution_count": 11,
   "metadata": {},
   "outputs": [],
   "source": [
    "\n",
    "if __name__ == \"__main__\":\n",
    "    main()\n"
   ]
  }
 ],
 "metadata": {
  "kernelspec": {
   "display_name": ".venv",
   "language": "python",
   "name": "python3"
  },
  "language_info": {
   "codemirror_mode": {
    "name": "ipython",
    "version": 3
   },
   "file_extension": ".py",
   "mimetype": "text/x-python",
   "name": "python",
   "nbconvert_exporter": "python",
   "pygments_lexer": "ipython3",
   "version": "3.12.1"
  }
 },
 "nbformat": 4,
 "nbformat_minor": 2
}
