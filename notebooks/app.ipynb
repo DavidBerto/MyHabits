{
 "cells": [
  {
   "cell_type": "code",
   "execution_count": 1,
   "metadata": {},
   "outputs": [
    {
     "data": {
      "text/plain": [
       "{'id': 'chatcmpl-9xHZ3cCSGNt9XmqkIjESPb40GrTpV',\n",
       " 'object': 'chat.completion',\n",
       " 'created': 1723915897,\n",
       " 'model': 'gpt-4o-mini-2024-07-18',\n",
       " 'choices': [{'index': 0,\n",
       "   'message': {'role': 'assistant',\n",
       "    'content': 'Aqui está uma tabela nutricional estimada para os alimentos presentes no prato da imagem:\\n\\n| Alimento | Porção (g) | Calorias | Proteínas (g) | Carboidratos (g) | Gorduras (g) |\\n|--------------------elhado    | 100        | 165      | 31            | 0                 | 3.6          |\\n| Alface            | 50         | 7        | 0.5           | 1.4               | 0.1          |\\n| Repolho roxo              | 50         | 13       | 1             | 3.0               | 0.1          |\\n| Tomate               | 100        | 18       | 0.9           | 3.9               | 0.2          |\\n| Feijão vermelho              | 100        | 127      | 8.7           | 22.8              | 0.5          |\\n| Amendoim                    | 30         | 170      | 7             | 6                 | 14           |\\n| Pimentão amarelo            | 50         | 15       | 0.5           | 3.5               | 0.2          |\\n| Total                       |            | 505      | 49.6         ',\n",
       "    'refusal': None},\n",
       "   'logprobs': None,\n",
       "   'finish_reason': 'length'}],\n",
       " 'usage': {'prompt_tokens': 36854,\n",
       "  'completion_tokens': 300,\n",
       "  'total_tokens': 37154},\n",
       " 'system_fingerprint': 'fp_507c9469a1'}"
      ]
     },
     "execution_count": 1,
     "metadata": {},
     "output_type": "execute_result"
    }
   ],
   "source": [
    "teste = {'id': 'chatcmpl-9xHZ3cCSGNt9XmqkIjESPb40GrTpV', 'object': 'chat.completion', 'created': 1723915897, 'model': 'gpt-4o-mini-2024-07-18', 'choices': [{'index': 0, 'message': {'role': 'assistant', 'content': 'Aqui está uma tabela nutricional estimada para os alimentos presentes no prato da imagem:\\n\\n| Alimento | Porção (g) | Calorias | Proteínas (g) | Carboidratos (g) | Gorduras (g) |\\n|--------------------elhado    | 100        | 165      | 31            | 0                 | 3.6          |\\n| Alface            | 50         | 7        | 0.5           | 1.4               | 0.1          |\\n| Repolho roxo              | 50         | 13       | 1             | 3.0               | 0.1          |\\n| Tomate               | 100        | 18       | 0.9           | 3.9               | 0.2          |\\n| Feijão vermelho              | 100        | 127      | 8.7           | 22.8              | 0.5          |\\n| Amendoim                    | 30         | 170      | 7             | 6                 | 14           |\\n| Pimentão amarelo            | 50         | 15       | 0.5           | 3.5               | 0.2          |\\n| Total                       |            | 505      | 49.6         ', 'refusal': None}, 'logprobs': None, 'finish_reason': 'length'}], 'usage': {'prompt_tokens': 36854, 'completion_tokens': 300, 'total_tokens': 37154}, 'system_fingerprint': 'fp_507c9469a1'}\n",
    "teste"
   ]
  },
  {
   "cell_type": "code",
   "execution_count": 9,
   "metadata": {},
   "outputs": [
    {
     "name": "stdout",
     "output_type": "stream",
     "text": [
      "Aqui está uma tabela nutricional estimada para os alimentos presentes no prato da imagem:\n",
      "\n",
      "| Alimento | Porção (g) | Calorias | Proteínas (g) | Carboidratos (g) | Gorduras (g) |\n",
      "|--------------------elhado    | 100        | 165      | 31            | 0                 | 3.6          |\n",
      "| Alface            | 50         | 7        | 0.5           | 1.4               | 0.1          |\n",
      "| Repolho roxo              | 50         | 13       | 1             | 3.0               | 0.1          |\n",
      "| Tomate               | 100        | 18       | 0.9           | 3.9               | 0.2          |\n",
      "| Feijão vermelho              | 100        | 127      | 8.7           | 22.8              | 0.5          |\n",
      "| Amendoim                    | 30         | 170      | 7             | 6                 | 14           |\n",
      "| Pimentão amarelo            | 50         | 15       | 0.5           | 3.5               | 0.2          |\n",
      "| Total                       |            | 505      | 49.6         \n"
     ]
    }
   ],
   "source": [
    "print(teste['choices'][0]['message']['content'])"
   ]
  },
  {
   "cell_type": "code",
   "execution_count": null,
   "metadata": {},
   "outputs": [],
   "source": []
  }
 ],
 "metadata": {
  "kernelspec": {
   "display_name": ".venv",
   "language": "python",
   "name": "python3"
  },
  "language_info": {
   "codemirror_mode": {
    "name": "ipython",
    "version": 3
   },
   "file_extension": ".py",
   "mimetype": "text/x-python",
   "name": "python",
   "nbconvert_exporter": "python",
   "pygments_lexer": "ipython3",
   "version": "3.12.1"
  }
 },
 "nbformat": 4,
 "nbformat_minor": 2
}
